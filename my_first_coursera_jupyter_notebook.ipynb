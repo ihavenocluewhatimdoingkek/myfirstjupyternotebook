{
 "cells": [
  {
   "cell_type": "markdown",
   "metadata": {},
   "source": [
    "<center>\n",
    "    <img src=\"https://cf-courses-data.s3.us.cloud-object-storage.appdomain.cloud/IBMDeveloperSkillsNetwork-DS0105EN-SkillsNetwork/labs/Module2/images/SN_web_lightmode.png\" width=\"300\" alt=\"cognitiveclass.ai logo\">\n",
    "</center>\n"
   ]
  },
  {
   "cell_type": "markdown",
   "metadata": {},
   "source": [
    "# My first Jupyter Notebook\n"
   ]
  },
  {
   "cell_type": "markdown",
   "metadata": {},
   "source": [
    "This is an introduction to data science. Data science is the interdisciplinary field of extracting insights from data using scientific methods, algorithms, and tools.\n"
   ]
  },
  {
   "cell_type": "markdown",
   "metadata": {},
   "source": [
    "Commonly used languages for data science languages are:\n",
    "\n",
    "1.) Python\n",
    "2.) R\n",
    "3.) SQL\n",
    "4.) Julia\n",
    "5.) Ruby\n"
   ]
  },
  {
   "cell_type": "markdown",
   "metadata": {},
   "source": [
    "Commonly used data science libraries are:\n",
    "\n",
    "1.) Numpy\n",
    "2.) Pandas\n",
    "3.) Matplotlib\n",
    "4.) Scikit-learn\n",
    "5.) TensorFlow"
   ]
  },
  {
   "cell_type": "markdown",
   "metadata": {},
   "source": [
    "Following is a table of data science tools:\n",
    "\n",
    "<table ><tr><th >Data Science tools </tr>\n",
    "<tr><td> 1.) RStudio <td>\n",
    "    <td> 2) Jupyter <td>\n",
    "    <td> 3.) Github <td><tr><table>\n",
    "\n"
   ]
  },
  {
   "cell_type": "markdown",
   "metadata": {},
   "source": [
    "## The cells below introduce arithmetic expressions. Adding and multiplying numbers, and converting hours to minutes.\n"
   ]
  },
  {
   "cell_type": "code",
   "execution_count": 1,
   "metadata": {},
   "outputs": [
    {
     "name": "stdout",
     "output_type": "stream",
     "text": [
      "28993\n"
     ]
    }
   ],
   "source": [
    "#this cell multiplies 69 with 420, and adds 13. The output should be 28933\n",
    "\n",
    "print((69*420)+13)\n"
   ]
  },
  {
   "cell_type": "code",
   "execution_count": 4,
   "metadata": {},
   "outputs": [
    {
     "name": "stdout",
     "output_type": "stream",
     "text": [
      "2.0\n"
     ]
    }
   ],
   "source": [
    "#this cell converts hours to minutes. The output should be 2.0\n",
    "\n",
    "print(120/60)"
   ]
  },
  {
   "cell_type": "markdown",
   "metadata": {},
   "source": [
    "## The objectives of this course are:\n",
    "Module 1: Overview of Data Science Tools \n",
    "Module 2: Languages of Data Science\n",
    "Module 3: Packages, APIs, Datasets, and Models\n",
    "Module 4: Jupyter Notebooks and Jupyter Labs\n",
    "Module 5: RStudio and GitHub\n",
    "Module 6: Create and Share your Jupter Notebook\n",
    "Module 7: Optional IBM Watson Studio\n",
    "\n"
   ]
  },
  {
   "cell_type": "markdown",
   "metadata": {},
   "source": [
    "# The Author's name: GenericDabbling"
   ]
  },
  {
   "cell_type": "code",
   "execution_count": null,
   "metadata": {},
   "outputs": [],
   "source": []
  }
 ],
 "metadata": {
  "kernelspec": {
   "display_name": "Python 3 (ipykernel)",
   "language": "python",
   "name": "python3"
  },
  "language_info": {
   "codemirror_mode": {
    "name": "ipython",
    "version": 3
   },
   "file_extension": ".py",
   "mimetype": "text/x-python",
   "name": "python",
   "nbconvert_exporter": "python",
   "pygments_lexer": "ipython3",
   "version": "3.11.9"
  }
 },
 "nbformat": 4,
 "nbformat_minor": 4
}
